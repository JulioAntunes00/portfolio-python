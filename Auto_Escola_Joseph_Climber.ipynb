{
  "nbformat": 4,
  "nbformat_minor": 0,
  "metadata": {
    "colab": {
      "provenance": [],
      "toc_visible": true,
      "authorship_tag": "ABX9TyMe+ISHT8dxBazhTK/L3lyH",
      "include_colab_link": true
    },
    "kernelspec": {
      "name": "python3",
      "display_name": "Python 3"
    },
    "language_info": {
      "name": "python"
    }
  },
  "cells": [
    {
      "cell_type": "markdown",
      "metadata": {
        "id": "view-in-github",
        "colab_type": "text"
      },
      "source": [
        "<a href=\"https://colab.research.google.com/github/JulioAntunes00/portfolio-python/blob/main/Auto_Escola_Joseph_Climber.ipynb\" target=\"_parent\"><img src=\"https://colab.research.google.com/assets/colab-badge.svg\" alt=\"Open In Colab\"/></a>"
      ]
    },
    {
      "cell_type": "code",
      "execution_count": 12,
      "metadata": {
        "colab": {
          "base_uri": "https://localhost:8080/"
        },
        "id": "kfxEsuWo_v-b",
        "outputId": "d6cedbdf-6531-44ce-e56b-12b14d6a00cf"
      },
      "outputs": [
        {
          "output_type": "stream",
          "name": "stdout",
          "text": [
            "===Bem vindo a auto escola Joseph Climber===\n",
            "\n",
            "Escolha o menu para interagir:\n",
            "\n",
            "1. Cadastrar senha \n",
            "2. Escolher tipo de carteira \n",
            "3. Agendar aula teórica\n",
            "Digite a opção desejada2\n",
            "Digite a opção desejada1\n",
            "ok\n"
          ]
        }
      ],
      "source": [
        "print(\"===Bem vindo a auto escola Joseph Climber===\\n\")\n",
        "print(\"Escolha o menu para interagir:\\n\"\"\\n1. Cadastrar senha \\n2. Escolher tipo de carteira \\n3. Agendar aula teórica\")\n",
        "\n",
        "while True:\n",
        "  try:\n",
        "    menu = int(input(\"Digite a opção desejada\"))\n",
        "\n",
        "    if menu == 1:\n",
        "      print(\"ok\")\n",
        "      break\n",
        "\n",
        "\n",
        "\n",
        "\n",
        "\n",
        "\n",
        "\n",
        "  except ValueError:\n",
        "    print(\"Entrada inválida. Por favor, digite um número.\")"
      ]
    },
    {
      "cell_type": "code",
      "source": [
        "while True:\n",
        "  senha = int(input(\"Digite a senha:\"))\n",
        "\n",
        "  if senha == 123:\n",
        "    print(\"Senha correta\")\n",
        "    break\n",
        "  elif senha == 321:\n",
        "    print(\"Quase lá\")\n",
        "  else:\n",
        "    print(\"Senha incorreta\")\n"
      ],
      "metadata": {
        "id": "qW8o2CcLEZJJ"
      },
      "execution_count": null,
      "outputs": []
    }
  ]
}